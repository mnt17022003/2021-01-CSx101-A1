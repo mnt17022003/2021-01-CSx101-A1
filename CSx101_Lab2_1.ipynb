{
  "nbformat": 4,
  "nbformat_minor": 0,
  "metadata": {
    "colab": {
      "name": "CSx101.Lab2-1.ipynb",
      "provenance": [],
      "include_colab_link": true
    },
    "kernelspec": {
      "name": "python3",
      "display_name": "Python 3"
    }
  },
  "cells": [
    {
      "cell_type": "markdown",
      "metadata": {
        "id": "view-in-github",
        "colab_type": "text"
      },
      "source": [
        "<a href=\"https://colab.research.google.com/github/mnt17022003/2021-01-CSx101-A1/blob/main/CSx101_Lab2_1.ipynb\" target=\"_parent\"><img src=\"https://colab.research.google.com/assets/colab-badge.svg\" alt=\"Open In Colab\"/></a>"
      ]
    },
    {
      "cell_type": "markdown",
      "metadata": {
        "id": "qYjoagGcuYmq"
      },
      "source": [
        "# CSx101 - TƯ DUY LẬP TRÌNH VỚI PYTHON\n",
        "\n",
        "Lớp 2021-01-CSx101-A1"
      ]
    },
    {
      "cell_type": "markdown",
      "metadata": {
        "id": "9CUHdHZe1Q2F"
      },
      "source": [
        "## Số lớn nhất - nhỏ nhất của dãy số\n",
        "\n",
        "Viết hàm trả về số lớn nhất, và số nhỏ nhất của một dãy số"
      ]
    },
    {
      "cell_type": "code",
      "metadata": {
        "id": "Rk-3yHVazWf6",
        "outputId": "4c58aad5-652d-45e0-e2fd-d0d02f6c3b68",
        "colab": {
          "base_uri": "https://localhost:8080/"
        }
      },
      "source": [
        "def findMinMax(arr):\n",
        "  arr.sort()\n",
        "  return arr[0],arr[int(len(arr))-1]\n",
        "\n",
        "arr = [2, 3, 4, 6]\n",
        "\n",
        "min, max = findMinMax(arr)\n",
        "print(min)\n",
        "print(max)\n",
        "\n",
        "# Kết quả "
      ],
      "execution_count": 89,
      "outputs": [
        {
          "output_type": "stream",
          "text": [
            "2\n",
            "6\n"
          ],
          "name": "stdout"
        }
      ]
    },
    {
      "cell_type": "markdown",
      "metadata": {
        "id": "nmHh7xWnhhp_"
      },
      "source": [
        "## Hoán đổi vị trí phần tử đầu và phần cuối của một dãy số\n",
        "\n",
        "Viết hoán đổi phần tử đầu và phần tử cuối của một dãy số\n",
        "\n",
        "Ví dụ:\n",
        "* Input: 1 2 3 4 5\n",
        "* Output: 5 2 3 4 1"
      ]
    },
    {
      "cell_type": "code",
      "metadata": {
        "id": "QfjAATq7zZLY",
        "outputId": "80845ad0-67d0-48f8-fe71-b23f2bae19de",
        "colab": {
          "base_uri": "https://localhost:8080/"
        }
      },
      "source": [
        "def swapList(arr):\n",
        "  arr[0],arr[int(len(arr))-1] = arr[int(len(arr))-1],arr[0]\n",
        "arr = list(map(int,input().split()))\n",
        "swapList(arr)\n",
        "print(arr)"
      ],
      "execution_count": 32,
      "outputs": [
        {
          "output_type": "stream",
          "text": [
            "1 2 3 4 5\n",
            "[5, 2, 3, 4, 1]\n"
          ],
          "name": "stdout"
        }
      ]
    },
    {
      "cell_type": "markdown",
      "metadata": {
        "id": "leCn2xFwubkR"
      },
      "source": [
        "## Kiểm tra một phần tử có trong dãy số \n",
        "\n",
        "Viết hàm kiểm tra một phần tử có trong dãy số cho trước hay không\n",
        "\n",
        "Ví dụ:\n",
        "* Input: dãy số 1, 2, 3, 4, 5 và phần tử cần kiểm tra là 9\n",
        "* Output: False"
      ]
    },
    {
      "cell_type": "code",
      "metadata": {
        "id": "N2uyMnza1Bkc",
        "outputId": "11575c93-0798-4ee0-af79-74d8e37ac13b",
        "colab": {
          "base_uri": "https://localhost:8080/"
        }
      },
      "source": [
        "def checkNumberExist(x, arr):\n",
        "  arr.sort()\n",
        "  for i in arr:\n",
        "    if( x == i ):\n",
        "      return True\n",
        "      break\n",
        "  return False\n",
        "arr = list(map(int, input().split()))\n",
        "x = int(input())\n",
        "checkNumberExist(x,arr)\n"
      ],
      "execution_count": 33,
      "outputs": [
        {
          "output_type": "stream",
          "text": [
            "1 2 3 4 5\n",
            "9\n"
          ],
          "name": "stdout"
        },
        {
          "output_type": "execute_result",
          "data": {
            "text/plain": [
              "False"
            ]
          },
          "metadata": {},
          "execution_count": 33
        }
      ]
    },
    {
      "cell_type": "markdown",
      "metadata": {
        "id": "mbBv-k2SkFVK"
      },
      "source": [
        "## Đảo ngược dãy số\n",
        "\n",
        "Viết hàm đảo ngược một dãy số\n",
        "\n",
        "Ví dụ: \n",
        "* Input: 1, 2, 3, 4, 5\n",
        "* Output: 5, 4, 3, 2, 1"
      ]
    },
    {
      "cell_type": "code",
      "metadata": {
        "id": "oz59rx9g1Fx6",
        "outputId": "b5622718-4b6d-4211-9787-91bf067776f5",
        "colab": {
          "base_uri": "https://localhost:8080/"
        }
      },
      "source": [
        "def reverseList(arr):\n",
        "  n = int(len(arr))\n",
        "  for i in range(int(n/2)):\n",
        "    arr[i],arr[n-i-1] = arr[n-i-1],arr[i]\n",
        "\n",
        "arr = list(map(int, input().split()))\n",
        "reverseList(arr)\n",
        "print(arr)\n"
      ],
      "execution_count": 34,
      "outputs": [
        {
          "output_type": "stream",
          "text": [
            "1 2 3 4 5\n",
            "[5, 4, 3, 2, 1]\n"
          ],
          "name": "stdout"
        }
      ]
    },
    {
      "cell_type": "markdown",
      "metadata": {
        "id": "CMIVvurg2OiU"
      },
      "source": [
        "## Số nguyên tố của dãy số\n",
        "\n",
        "Viết hàm trả về các số nguyên tố của một dãy số\n",
        "\n",
        "Ví dụ:\n",
        "* Input: 3, 7, 11, 12, 15\n",
        "* Output: 3, 7, 11"
      ]
    },
    {
      "cell_type": "code",
      "metadata": {
        "id": "-3ZMFj3r2TgX",
        "outputId": "a623e401-4184-4921-aa69-4e39742f92da",
        "colab": {
          "base_uri": "https://localhost:8080/"
        }
      },
      "source": [
        "def test_NT(x):\n",
        "  if(x<=1):return False\n",
        "  if(x==2):return True\n",
        "  for i in range(2,int(x/2)+1):\n",
        "    if(x%i == 0): return False\n",
        "  return True\n",
        "def findPrimeNumbers(arr):\n",
        "  result = []\n",
        "  for i in arr:\n",
        "    if(test_NT(i) == True): result.append(i)\n",
        "  print(result)\n",
        "arr = list(map(int, input().split()))\n",
        "findPrimeNumbers(arr)\n",
        "\n"
      ],
      "execution_count": 35,
      "outputs": [
        {
          "output_type": "stream",
          "text": [
            "3 7 11 12 15\n",
            "[3, 7, 11]\n"
          ],
          "name": "stdout"
        }
      ]
    },
    {
      "cell_type": "markdown",
      "metadata": {
        "id": "cCyfKs0q4h-X"
      },
      "source": [
        "## Đếm số lần xuất hiện của một phần tử trong dãy số\n",
        "\n",
        "Viết hàm đếm số lần xuất hiện của một phần tử trong dãy số\n",
        "\n",
        "Ví dụ:\n",
        "* Input: 1, 2, 4, 2, 6, 2, 5, 2 và 2\n",
        "* Output: 4 (số 2 xuất hiện 4 lần trong dãy số trên)\n"
      ]
    },
    {
      "cell_type": "code",
      "metadata": {
        "id": "1pfCY9w04nCN",
        "outputId": "31217b06-3035-4a98-da82-d5fcdd2a0505",
        "colab": {
          "base_uri": "https://localhost:8080/"
        }
      },
      "source": [
        "def countOccurences(x, arr):\n",
        "  kq=arr.count(x)\n",
        "  print(kq)\n",
        "arr = list(map(int, input().split()))\n",
        "x=int(input())\n",
        "countOccurences(x,arr)"
      ],
      "execution_count": 39,
      "outputs": [
        {
          "output_type": "stream",
          "text": [
            "1 2 4 2 6 2 5 2\n",
            "2\n",
            "4\n"
          ],
          "name": "stdout"
        }
      ]
    },
    {
      "cell_type": "markdown",
      "metadata": {
        "id": "IQX-kblX6FFL"
      },
      "source": [
        "## Loại bỏ các phần tử trùng\n",
        "\n",
        "Viết hàm loại bỏ các phần tử trùng của một dãy cho trước. Dãy trả về bao gồm các phần tử chỉ xuất hiện một lần\n",
        "\n",
        "* Input: 10, 20, 30, 20, 20, 30, 40, 50, -20, 60, 60, -20, -20\n",
        "* Output: 20, 30, -20, 60\n"
      ]
    },
    {
      "cell_type": "code",
      "metadata": {
        "id": "9-pRgu5w6P3w",
        "outputId": "ea6e4115-99f8-47a4-88d9-93bde64c70e3",
        "colab": {
          "base_uri": "https://localhost:8080/"
        }
      },
      "source": [
        "def removeDuplicates(n):\n",
        "  result = []\n",
        "  for i in arr:\n",
        "    if( arr.count(i) != 1 and result.count(i) == 0 ):\n",
        "      result.append(i)\n",
        "  print(result)\n",
        "arr = list(map(int, input().split()))\n",
        "removeDuplicates(arr)"
      ],
      "execution_count": 44,
      "outputs": [
        {
          "output_type": "stream",
          "text": [
            "10 20 30 20 20 30 40 50 -20 60 60 -20 -20\n",
            "[20, 30, -20, 60]\n"
          ],
          "name": "stdout"
        }
      ]
    },
    {
      "cell_type": "markdown",
      "metadata": {
        "id": "5A5TZTYJ2Kae"
      },
      "source": [
        "## Tìm N số lớn nhất trong dãy\n",
        "\n",
        "Viết hàm trả về N số lớn nhất trong dãy cho trước\n",
        "\n",
        "* Input: 4, 5, 1, 2, 9 và N=2\n",
        "* Output: 9, 5"
      ]
    },
    {
      "cell_type": "code",
      "metadata": {
        "id": "K2ydHtRR3ebu",
        "outputId": "b030ffb9-d8cb-42cd-8993-7e82b28e4c10",
        "colab": {
          "base_uri": "https://localhost:8080/"
        }
      },
      "source": [
        "def findNLargestElements(N, arr):\n",
        "  arr.sort(reverse=True)\n",
        "  print(arr[:N])\n",
        "  \n",
        "arr= list(map(int, input().split()))\n",
        "N=int(input())\n",
        "findNLargestElements(N, arr)"
      ],
      "execution_count": 53,
      "outputs": [
        {
          "output_type": "stream",
          "text": [
            "4 5 1 2 9\n",
            "2\n",
            "[9, 5]\n"
          ],
          "name": "stdout"
        }
      ]
    },
    {
      "cell_type": "markdown",
      "metadata": {
        "id": "xXSKpzjJ2Wt4"
      },
      "source": [
        "## Tính tổng tích luỹ\n",
        "\n",
        "Viết hàm tính tổng tích luỹ của một dãy. \n",
        "\n",
        "Phần tử thứ $i$ của dãy đầu ra bằng tổng các phần tử $i, i-1, i-2, ...$ của dãy đầu vào\n",
        "\n",
        "* Input: 10, 20, 30, 40, 50\n",
        "* Output: 10, 30, 60, 100, 150"
      ]
    },
    {
      "cell_type": "code",
      "metadata": {
        "id": "RfQ2N2Ty3oLy",
        "outputId": "cfb354d3-b567-4161-c244-50871d0574af",
        "colab": {
          "base_uri": "https://localhost:8080/"
        }
      },
      "source": [
        "def calcCumulativeSum(arr):\n",
        "  result=[arr[0]]\n",
        "  for i in range(1, int(len(arr))):\n",
        "    x= result[i-1] + arr[i]\n",
        "    result.append(x)\n",
        "  print(result)\n",
        "arr = list(map(int, input().split()))\n",
        "calcCumulativeSum(arr)"
      ],
      "execution_count": 57,
      "outputs": [
        {
          "output_type": "stream",
          "text": [
            "10 20 30 40 50\n",
            "[10, 30, 60, 100, 150]\n"
          ],
          "name": "stdout"
        }
      ]
    },
    {
      "cell_type": "markdown",
      "metadata": {
        "id": "a72UHNxW3OmA"
      },
      "source": [
        "## Xoá một số phần tử của dãy\n",
        "\n",
        "Viết hàm xoá một số phần tử của dãy\n",
        "\n",
        "* Input: 12, 15, 3, 10 và 12 và 3 là các phần tử cần xoá\n",
        "* Output: 15, 10"
      ]
    },
    {
      "cell_type": "code",
      "metadata": {
        "id": "PkwKGvI74AHU",
        "outputId": "ed81722a-0a02-4e1c-cbc0-223bd81bddc4",
        "colab": {
          "base_uri": "https://localhost:8080/"
        }
      },
      "source": [
        "def removeElemetns(arrInput, arrRemove):\n",
        "  result = arrInput\n",
        "  for i in arrRemove:\n",
        "    result.remove(i)\n",
        "  print(result)\n",
        "arrInput = list(map(int, input().split()))\n",
        "arrRemove = list(map(int, input().split()))\n",
        "removeElemetns(arrInput, arrRemove)"
      ],
      "execution_count": 87,
      "outputs": [
        {
          "output_type": "stream",
          "text": [
            "12 15 3 10\n",
            "12 3\n",
            "[15, 10]\n"
          ],
          "name": "stdout"
        }
      ]
    }
  ]
}