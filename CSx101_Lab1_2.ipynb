{
  "nbformat": 4,
  "nbformat_minor": 0,
  "metadata": {
    "colab": {
      "name": "CSx101.Lab1-2.ipynb",
      "provenance": [],
      "include_colab_link": true
    },
    "kernelspec": {
      "name": "python3",
      "display_name": "Python 3"
    }
  },
  "cells": [
    {
      "cell_type": "markdown",
      "metadata": {
        "id": "view-in-github",
        "colab_type": "text"
      },
      "source": [
        "<a href=\"https://colab.research.google.com/github/mnt17022003/2021-01-CSx101-A1/blob/main/CSx101_Lab1_2.ipynb\" target=\"_parent\"><img src=\"https://colab.research.google.com/assets/colab-badge.svg\" alt=\"Open In Colab\"/></a>"
      ]
    },
    {
      "cell_type": "markdown",
      "metadata": {
        "id": "qYjoagGcuYmq"
      },
      "source": [
        "# CSx101 - TƯ DUY LẬP TRÌNH VỚI PYTHON\n",
        "\n",
        "Lớp 2021-01-CSx101-A1"
      ]
    },
    {
      "cell_type": "markdown",
      "metadata": {
        "id": "9CUHdHZe1Q2F"
      },
      "source": [
        "## Số lớn nhất\n",
        "\n",
        "Viết hàm tính số lớn nhất của 2 hai số"
      ]
    },
    {
      "cell_type": "code",
      "metadata": {
        "id": "Rk-3yHVazWf6",
        "outputId": "cd12c360-389e-45a1-cf51-ab0f64c0cc71",
        "colab": {
          "base_uri": "https://localhost:8080/"
        }
      },
      "source": [
        "def calMax(a, b):\n",
        "  if(a>b): return a\n",
        "  else: return b\n",
        "a = 5\n",
        "b = 5.01\n",
        "\n",
        "max2 = calMax(a, b)\n",
        "print(max2)\n",
        "\n",
        "# Kết quả 5.01"
      ],
      "execution_count": 4,
      "outputs": [
        {
          "output_type": "stream",
          "text": [
            "5.01\n"
          ],
          "name": "stdout"
        }
      ]
    },
    {
      "cell_type": "markdown",
      "metadata": {
        "id": "nmHh7xWnhhp_"
      },
      "source": [
        "## Giai thừa\n",
        "\n",
        "Viết hàm tính giai thừa của $n$\n",
        "\n",
        "$n! = n*(n-1)*(n-2)*...*1$"
      ]
    },
    {
      "cell_type": "code",
      "metadata": {
        "id": "QfjAATq7zZLY",
        "outputId": "398e1ae8-96e5-45db-dd62-3f90355942a5",
        "colab": {
          "base_uri": "https://localhost:8080/"
        }
      },
      "source": [
        "def calFactorial(n):\n",
        "  if(n==0): return 0\n",
        "  kq=1\n",
        "  for i in range(2,n+1):\n",
        "    kq*=i\n",
        "  return kq\n",
        "\n",
        "n = 5\n",
        "result = calFactorial(n)\n",
        "print(result)\n",
        "\n",
        "# Kết quả 120"
      ],
      "execution_count": 20,
      "outputs": [
        {
          "output_type": "stream",
          "text": [
            "120\n"
          ],
          "name": "stdout"
        }
      ]
    },
    {
      "cell_type": "markdown",
      "metadata": {
        "id": "leCn2xFwubkR"
      },
      "source": [
        "## Số Amstrong\n",
        "Viết hàm trả về số $x$ có phải là số Amstrong hay không. \n",
        "\n",
        "Số nguyên dương có $n$ chữ số là số  Armstrong bậc $n$ nếu:\n",
        "\n",
        "$abcd... = pow(a,n) + pow(b,n) + pow(c,n) + pow(d,n) + .... $\n",
        "\n",
        "Ví dụ: 153 là số Amstrong vì $n=3$ và \n",
        "\n",
        "$1*1*1 + 5*5*5 + 3*3*3 = 153$"
      ]
    },
    {
      "cell_type": "code",
      "metadata": {
        "id": "N2uyMnza1Bkc",
        "outputId": "902e007b-eb36-440f-ce21-9d3488c5a54c",
        "colab": {
          "base_uri": "https://localhost:8080/"
        }
      },
      "source": [
        "def checkAmstrongNumber(x):\n",
        "  S = str(x)\n",
        "  n = len(S)\n",
        "  result = 0\n",
        "  for i in range(n):\n",
        "    result += int(S[i])**n\n",
        "  if(x==result):return True\n",
        "  return False\n",
        "x = 153\n",
        "result = checkAmstrongNumber(x)\n",
        "print(result)\n",
        "\n",
        "# Kết quả True"
      ],
      "execution_count": 24,
      "outputs": [
        {
          "output_type": "stream",
          "text": [
            "True\n"
          ],
          "name": "stdout"
        }
      ]
    },
    {
      "cell_type": "markdown",
      "metadata": {
        "id": "mbBv-k2SkFVK"
      },
      "source": [
        "## Số nguyên tố\n",
        "\n",
        "Viết hàm kiểm tra một số nguyên dương $n$ có phải là số nguyên tố hay không.\n",
        "\n",
        "Số nguyên tố là số lớn hơn 1 và không có ước số nào ngoài 1 và chính nó. Ví dụ: {2, 3, 5, 7, 11, ….}."
      ]
    },
    {
      "cell_type": "code",
      "metadata": {
        "id": "oz59rx9g1Fx6",
        "outputId": "d62c6ad7-11d3-47b9-8237-7e894e6e2c19",
        "colab": {
          "base_uri": "https://localhost:8080/"
        }
      },
      "source": [
        "def checkPrimeNumber(n):\n",
        "  if(n<=1): return False\n",
        "  if(n==2): return True\n",
        "  for i in range(2,int(n/2) + 1):\n",
        "    if(n % i == 0): return False\n",
        "  return True\n",
        "\n",
        "n = 7\n",
        "result = checkPrimeNumber(n)\n",
        "print(result) \n",
        "\n",
        "# Kết quả True"
      ],
      "execution_count": 31,
      "outputs": [
        {
          "output_type": "stream",
          "text": [
            "True\n"
          ],
          "name": "stdout"
        }
      ]
    },
    {
      "cell_type": "markdown",
      "metadata": {
        "id": "CMIVvurg2OiU"
      },
      "source": [
        "## Số Fibonaci\n",
        "\n",
        "Viết hàm tính số Fibonaci $F_n$\n",
        "\n",
        "Công thức tính số Fibonaci\n",
        "$F_n = F_{n-1} + F_{n-2}$\n",
        "\n",
        "$F_0 = 0$\n",
        "\n",
        "$F_1 = 1$"
      ]
    },
    {
      "cell_type": "code",
      "metadata": {
        "id": "-3ZMFj3r2TgX",
        "colab": {
          "base_uri": "https://localhost:8080/"
        },
        "outputId": "db7dddae-7ef3-4b66-e619-40e5a998ed1b"
      },
      "source": [
        "def calFibonaci(n):\n",
        "  if(n == 0): return 0\n",
        "  if(n == 1): return 1\n",
        "  return calFibonaci(n-1) + calFibonaci(n-2)\n",
        "\n",
        "n = 2\n",
        "result = calFibonaci(n)\n",
        "print(result) \n",
        "\n",
        "# Kết quả 1"
      ],
      "execution_count": 36,
      "outputs": [
        {
          "output_type": "stream",
          "text": [
            "1\n"
          ],
          "name": "stdout"
        }
      ]
    },
    {
      "cell_type": "markdown",
      "metadata": {
        "id": "cCyfKs0q4h-X"
      },
      "source": [
        "## Kiểm tra một số có phải là số Fibonaci hay không\n",
        "\n",
        "Viết hàm kiểm tra một số $n$ có phải là số Fibonaci hay không.\n",
        "\n",
        "Các số sau là số Fibonaci: 0, 1, 1, 2, 3, 5, 8, 13, 21, 34, 55, 89, 144,\n",
        "\n",
        "Gợi ý: A number is Fibonacci if and only if one or both of $(5*n2 + 4)$ or $(5*n2 – 4)$ is a perfect square"
      ]
    },
    {
      "cell_type": "code",
      "metadata": {
        "id": "1pfCY9w04nCN",
        "outputId": "51966b00-fa23-4dca-eb2e-42e3a8fc9503",
        "colab": {
          "base_uri": "https://localhost:8080/"
        }
      },
      "source": [
        "from math import*\n",
        "def checkFibonaciNumber(n):\n",
        "  if(n==0): return True\n",
        "  tong= sqrt( 5*n*n + 4)\n",
        "  hieu= sqrt( 5*n*n - 4)\n",
        "  if(tong == int(tong) or hieu == int(hieu)): return True\n",
        "  return False\n",
        "\n",
        "n = 21\n",
        "result = checkFibonaciNumber(n)\n",
        "print(result) \n",
        "\n",
        "# Kết quả True"
      ],
      "execution_count": 45,
      "outputs": [
        {
          "output_type": "stream",
          "text": [
            "True\n"
          ],
          "name": "stdout"
        }
      ]
    },
    {
      "cell_type": "markdown",
      "metadata": {
        "id": "IQX-kblX6FFL"
      },
      "source": [
        "## Tổng $1^2 + 2^2 + 3^2 + …+ n^2$\n",
        "\n",
        "Viết hàm tính tổng trên "
      ]
    },
    {
      "cell_type": "code",
      "metadata": {
        "id": "9-pRgu5w6P3w",
        "colab": {
          "base_uri": "https://localhost:8080/"
        },
        "outputId": "26b1d801-8f11-4953-cc9b-db1f861a1f41"
      },
      "source": [
        "def calSquareSum(n):\n",
        "  kq=0\n",
        "  for i in range(1,n+1):\n",
        "    kq+=i*i\n",
        "  return kq\n",
        "\n",
        "n = 2\n",
        "result = calSquareSum(n)\n",
        "print(result) \n",
        "\n",
        "# Kết quả 5"
      ],
      "execution_count": 50,
      "outputs": [
        {
          "output_type": "stream",
          "text": [
            "5\n"
          ],
          "name": "stdout"
        }
      ]
    },
    {
      "cell_type": "markdown",
      "metadata": {
        "id": "B9JahOfd6Zj4"
      },
      "source": [
        "**Lệnh điều khiển (rẽ nhánh)**"
      ]
    },
    {
      "cell_type": "code",
      "metadata": {
        "id": "bD8JdWgE6oU4",
        "colab": {
          "base_uri": "https://localhost:8080/",
          "height": 68
        },
        "outputId": "f0d9d977-5c3c-4fba-d331-abfa7a7f17ee"
      },
      "source": [
        "x= int(input('\bNhập một số nguyên: '))\n",
        "if x%2 == 0:\n",
        "  print()\n",
        "  print('\bSố chẵn')\n",
        "else:\n",
        "  print()\n",
        "  print('Số lẻ')\n",
        "print('Kết thúc minh hoạ lệnh rẽ nhánh')"
      ],
      "execution_count": null,
      "outputs": [
        {
          "output_type": "stream",
          "text": [
            "\bNhập một số nguyên: 4\n",
            "\n",
            "\bSố chẵn\n",
            "Kết thúc minh hoạ lệnh rẽ nhánh\n"
          ],
          "name": "stdout"
        }
      ]
    }
  ]
}